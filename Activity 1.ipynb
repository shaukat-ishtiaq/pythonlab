{
 "cells": [
  {
   "cell_type": "markdown",
   "id": "fe84a89d",
   "metadata": {},
   "source": [
    "# Build in functions activity"
   ]
  },
  {
   "cell_type": "code",
   "execution_count": 1,
   "id": "91360f89",
   "metadata": {},
   "outputs": [],
   "source": [
    "numInt = 10\n",
    "numFloat = 6.5\n",
    "numNegative = -12.3\n",
    "numComplex = 2+3j"
   ]
  },
  {
   "cell_type": "code",
   "execution_count": 2,
   "id": "2ba285fb",
   "metadata": {},
   "outputs": [],
   "source": [
    "pyList = [6,2,9,4,3,5]\n",
    "pyDict = {'name': 'Shaukat Ishtiaq',\n",
    "         'section': 'A3'}\n",
    "pyTuple = (12, 32, 3)\n",
    "pySet = {39,33,22,142}"
   ]
  },
  {
   "cell_type": "code",
   "execution_count": 3,
   "id": "defe3a16",
   "metadata": {},
   "outputs": [],
   "source": [
    "pyString1 = 'captainxjacksparrow'\n",
    "pyString2 = 'aezakmi!!@what'\n",
    "pyString3 = '6273'"
   ]
  },
  {
   "cell_type": "code",
   "execution_count": 4,
   "id": "d093911a",
   "metadata": {
    "scrolled": true
   },
   "outputs": [
    {
     "name": "stdout",
     "output_type": "stream",
     "text": [
      "10\n",
      "6.5\n",
      "12.3\n",
      "3.605551275463989\n"
     ]
    }
   ],
   "source": [
    "print(abs(numInt))\n",
    "print(abs(numFloat))\n",
    "print(abs(numNegative))\n",
    "print(abs(numComplex))"
   ]
  },
  {
   "cell_type": "code",
   "execution_count": 5,
   "id": "bcf30d93",
   "metadata": {},
   "outputs": [
    {
     "name": "stdout",
     "output_type": "stream",
     "text": [
      "6 2 3 4\n",
      "19 14\n"
     ]
    }
   ],
   "source": [
    "print(len(pyList), len(pyDict), len(pyTuple), len(pySet))\n",
    "\n",
    "print(len(pyString1), len(pyString2))"
   ]
  },
  {
   "cell_type": "code",
   "execution_count": 6,
   "id": "fdef406a",
   "metadata": {
    "scrolled": true
   },
   "outputs": [
    {
     "name": "stdout",
     "output_type": "stream",
     "text": [
      "2 22 3\n",
      "a ! 2\n"
     ]
    }
   ],
   "source": [
    "print(min(pyList), min(pySet), min(pyTuple))\n",
    "\n",
    "print(min(pyString1), min(pyString2), min(pyString3))"
   ]
  },
  {
   "cell_type": "code",
   "execution_count": 7,
   "id": "c3de302c",
   "metadata": {},
   "outputs": [
    {
     "name": "stdout",
     "output_type": "stream",
     "text": [
      "9 142 32\n",
      "x z 7\n"
     ]
    }
   ],
   "source": [
    "print(max(pyList), max(pySet), max(pyTuple))\n",
    "\n",
    "print(max(pyString1), max(pyString2), max(pyString3))"
   ]
  },
  {
   "cell_type": "code",
   "execution_count": 8,
   "id": "9a85bf2d",
   "metadata": {},
   "outputs": [
    {
     "name": "stdout",
     "output_type": "stream",
     "text": [
      "6 -12\n"
     ]
    }
   ],
   "source": [
    "print(round(numFloat), round(numNegative))"
   ]
  },
  {
   "cell_type": "code",
   "execution_count": 9,
   "id": "7653f8fe",
   "metadata": {},
   "outputs": [
    {
     "name": "stdout",
     "output_type": "stream",
     "text": [
      "captainxjacksparrow is alphamumeric:  True\n",
      "aezakmi!!@what is alphamumeric:  False\n",
      "6273 is alphamumeric:  True\n"
     ]
    }
   ],
   "source": [
    "print(pyString1, 'is alphamumeric: ',pyString1.isalnum())\n",
    "\n",
    "print(pyString2, 'is alphamumeric: ',pyString2.isalnum())\n",
    "\n",
    "print(pyString3, 'is alphamumeric: ',pyString3.isalnum())"
   ]
  },
  {
   "cell_type": "code",
   "execution_count": 10,
   "id": "fae8a90e",
   "metadata": {},
   "outputs": [
    {
     "name": "stdout",
     "output_type": "stream",
     "text": [
      "<class 'int'> <class 'float'> <class 'complex'> <class 'float'>\n",
      "<class 'dict'> <class 'set'> <class 'tuple'> <class 'list'>\n",
      "<class 'str'> <class 'str'> <class 'str'>\n"
     ]
    }
   ],
   "source": [
    "print(type(numInt), type(numFloat), type(numComplex), type(numNegative))\n",
    "\n",
    "print(type(pyDict), type(pySet), type(pyTuple), type(pyList))\n",
    "\n",
    "print(type(pyString1), type(pyString2), type(pyString3))"
   ]
  },
  {
   "cell_type": "markdown",
   "id": "60f6031e",
   "metadata": {},
   "source": [
    "# Data type activity"
   ]
  },
  {
   "cell_type": "code",
   "execution_count": null,
   "id": "3794c89b",
   "metadata": {},
   "outputs": [],
   "source": []
  }
 ],
 "metadata": {
  "kernelspec": {
   "display_name": "Python 3 (ipykernel)",
   "language": "python",
   "name": "python3"
  },
  "language_info": {
   "codemirror_mode": {
    "name": "ipython",
    "version": 3
   },
   "file_extension": ".py",
   "mimetype": "text/x-python",
   "name": "python",
   "nbconvert_exporter": "python",
   "pygments_lexer": "ipython3",
   "version": "3.9.12"
  }
 },
 "nbformat": 4,
 "nbformat_minor": 5
}
