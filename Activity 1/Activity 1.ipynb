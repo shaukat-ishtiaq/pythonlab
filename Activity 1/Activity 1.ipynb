{
 "cells": [
  {
   "cell_type": "markdown",
   "id": "da226239",
   "metadata": {},
   "source": [
    "# Data Type Activity"
   ]
  },
  {
   "cell_type": "code",
   "execution_count": 1,
   "id": "0412a029",
   "metadata": {},
   "outputs": [],
   "source": [
    "numInt = 10\n",
    "numFloat = 6.5\n",
    "numNegative = -12.3\n",
    "numComplex = 2+3j"
   ]
  },
  {
   "cell_type": "code",
   "execution_count": 19,
   "id": "a0294d2e",
   "metadata": {},
   "outputs": [
    {
     "name": "stdout",
     "output_type": "stream",
     "text": [
      "10 is of type  <class 'int'>\n",
      "6.5 is of type  <class 'float'>\n",
      "-12.3 is of type  <class 'complex'>\n"
     ]
    }
   ],
   "source": [
    "print(numInt, 'is of type ', type(numInt))\n",
    "print(numFloat, 'is of type ', type(numFloat))\n",
    "print(numNegative, 'is of type ', type(numComplex))"
   ]
  },
  {
   "cell_type": "code",
   "execution_count": 20,
   "id": "482da1f4",
   "metadata": {},
   "outputs": [],
   "source": [
    "pyList = [6,2,9,4,3,5]\n",
    "pyDict = {'name': 'Shaukat Ishtiaq',\n",
    "         'section': 'A3'}\n",
    "pyTuple = (12, 32, 3)\n",
    "pySet = {39,33,22,142}"
   ]
  },
  {
   "cell_type": "code",
   "execution_count": 15,
   "id": "ff247a93",
   "metadata": {},
   "outputs": [
    {
     "name": "stdout",
     "output_type": "stream",
     "text": [
      "[6, 2, 9, 4, 3, 5] is  <class 'list'> with length  6\n",
      "{'name': 'Shaukat Ishtiaq', 'section': 'A3'} is  <class 'dict'> with length  2\n",
      "(12, 32, 3) is  <class 'tuple'> with length  3\n",
      "{33, 39, 142, 22} is  <class 'set'> with length  4\n"
     ]
    }
   ],
   "source": [
    "print(pyList, 'is ',type(pyList) ,'with length ', len(pyList))\n",
    "\n",
    "print(pyDict, 'is ',type(pyDict) ,'with length ', len(pyDict))\n",
    "\n",
    "print(pyTuple, 'is ',type(pyTuple) ,'with length ', len(pyTuple))\n",
    "\n",
    "print(pySet, 'is ',type(pySet) ,'with length ', len(pySet))"
   ]
  },
  {
   "cell_type": "code",
   "execution_count": 21,
   "id": "48c5eff8",
   "metadata": {},
   "outputs": [],
   "source": [
    "pyString1 = 'captainxjacksparrow'\n",
    "pyString2 = 'aezakmi!!@what'\n",
    "pyString3 = '6273'"
   ]
  },
  {
   "cell_type": "code",
   "execution_count": 22,
   "id": "ba485b6c",
   "metadata": {},
   "outputs": [
    {
     "name": "stdout",
     "output_type": "stream",
     "text": [
      "captainxjacksparrow is  <class 'str'> with length  19\n",
      "aezakmi!!@what is  <class 'str'> with length  14\n",
      "6273 is  <class 'str'> with length  4\n"
     ]
    }
   ],
   "source": [
    "print(pyString1, 'is ',type(pyString1) ,'with length ', len(pyString1))\n",
    "\n",
    "print(pyString2, 'is ',type(pyString2) ,'with length ', len(pyString2))\n",
    "\n",
    "print(pyString3, 'is ',type(pyString3) ,'with length ', len(pyString3))\n"
   ]
  },
  {
   "cell_type": "markdown",
   "id": "2c205c3b",
   "metadata": {},
   "source": [
    "# Built In Functions"
   ]
  },
  {
   "cell_type": "code",
   "execution_count": 4,
   "id": "a20f709f",
   "metadata": {
    "scrolled": true
   },
   "outputs": [
    {
     "name": "stdout",
     "output_type": "stream",
     "text": [
      "10\n",
      "6.5\n",
      "12.3\n",
      "3.605551275463989\n"
     ]
    }
   ],
   "source": [
    "print(abs(numInt))\n",
    "print(abs(numFloat))\n",
    "print(abs(numNegative))\n",
    "print(abs(numComplex))"
   ]
  },
  {
   "cell_type": "code",
   "execution_count": 5,
   "id": "2a71fd75",
   "metadata": {},
   "outputs": [
    {
     "name": "stdout",
     "output_type": "stream",
     "text": [
      "6 2 3 4\n",
      "19 14\n"
     ]
    }
   ],
   "source": [
    "print(len(pyList), len(pyDict), len(pyTuple), len(pySet))\n",
    "\n",
    "print(len(pyString1), len(pyString2))"
   ]
  },
  {
   "cell_type": "code",
   "execution_count": 6,
   "id": "a51ff744",
   "metadata": {
    "scrolled": true
   },
   "outputs": [
    {
     "name": "stdout",
     "output_type": "stream",
     "text": [
      "2 22 3\n",
      "a ! 2\n"
     ]
    }
   ],
   "source": [
    "print(min(pyList), min(pySet), min(pyTuple))\n",
    "\n",
    "print(min(pyString1), min(pyString2), min(pyString3))"
   ]
  },
  {
   "cell_type": "code",
   "execution_count": 7,
   "id": "3363ba52",
   "metadata": {},
   "outputs": [
    {
     "name": "stdout",
     "output_type": "stream",
     "text": [
      "9 142 32\n",
      "x z 7\n"
     ]
    }
   ],
   "source": [
    "print(max(pyList), max(pySet), max(pyTuple))\n",
    "\n",
    "print(max(pyString1), max(pyString2), max(pyString3))"
   ]
  },
  {
   "cell_type": "code",
   "execution_count": 8,
   "id": "02154e08",
   "metadata": {},
   "outputs": [
    {
     "name": "stdout",
     "output_type": "stream",
     "text": [
      "6 -12\n"
     ]
    }
   ],
   "source": [
    "print(round(numFloat), round(numNegative))"
   ]
  },
  {
   "cell_type": "code",
   "execution_count": 9,
   "id": "74834bc8",
   "metadata": {},
   "outputs": [
    {
     "name": "stdout",
     "output_type": "stream",
     "text": [
      "captainxjacksparrow is alphamumeric:  True\n",
      "aezakmi!!@what is alphamumeric:  False\n",
      "6273 is alphamumeric:  True\n"
     ]
    }
   ],
   "source": [
    "print(pyString1, 'is alphamumeric: ',pyString1.isalnum())\n",
    "\n",
    "print(pyString2, 'is alphamumeric: ',pyString2.isalnum())\n",
    "\n",
    "print(pyString3, 'is alphamumeric: ',pyString3.isalnum())"
   ]
  },
  {
   "cell_type": "code",
   "execution_count": 10,
   "id": "e43c0bf2",
   "metadata": {},
   "outputs": [
    {
     "name": "stdout",
     "output_type": "stream",
     "text": [
      "<class 'int'> <class 'float'> <class 'complex'> <class 'float'>\n",
      "<class 'dict'> <class 'set'> <class 'tuple'> <class 'list'>\n",
      "<class 'str'> <class 'str'> <class 'str'>\n"
     ]
    }
   ],
   "source": [
    "print(type(numInt), type(numFloat), type(numComplex), type(numNegative))\n",
    "\n",
    "print(type(pyDict), type(pySet), type(pyTuple), type(pyList))\n",
    "\n",
    "print(type(pyString1), type(pyString2), type(pyString3))"
   ]
  },
  {
   "cell_type": "code",
   "execution_count": null,
   "id": "304d7056",
   "metadata": {},
   "outputs": [],
   "source": []
  }
 ],
 "metadata": {
  "kernelspec": {
   "display_name": "Python 3 (ipykernel)",
   "language": "python",
   "name": "python3"
  },
  "language_info": {
   "codemirror_mode": {
    "name": "ipython",
    "version": 3
   },
   "file_extension": ".py",
   "mimetype": "text/x-python",
   "name": "python",
   "nbconvert_exporter": "python",
   "pygments_lexer": "ipython3",
   "version": "3.9.12"
  }
 },
 "nbformat": 4,
 "nbformat_minor": 5
}
