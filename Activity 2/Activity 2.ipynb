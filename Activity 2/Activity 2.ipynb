{
 "cells": [
  {
   "cell_type": "markdown",
   "id": "b0e7e62e",
   "metadata": {},
   "source": [
    "# LIST"
   ]
  },
  {
   "cell_type": "code",
   "execution_count": 1,
   "id": "c7d54e6d",
   "metadata": {},
   "outputs": [],
   "source": [
    "list = [10,20,40,30,50]"
   ]
  },
  {
   "cell_type": "markdown",
   "id": "3ce282d4",
   "metadata": {},
   "source": [
    "## Using For Loop"
   ]
  },
  {
   "cell_type": "code",
   "execution_count": 2,
   "id": "71abaee4",
   "metadata": {
    "collapsed": true
   },
   "outputs": [
    {
     "name": "stdout",
     "output_type": "stream",
     "text": [
      "10\n",
      "20\n",
      "40\n",
      "30\n",
      "50\n"
     ]
    }
   ],
   "source": [
    "for item in list:\n",
    "    print(item)"
   ]
  },
  {
   "cell_type": "markdown",
   "id": "0f6e08c4",
   "metadata": {},
   "source": [
    "## Using loop and range"
   ]
  },
  {
   "cell_type": "code",
   "execution_count": 3,
   "id": "4cf886bd",
   "metadata": {
    "collapsed": true
   },
   "outputs": [
    {
     "name": "stdout",
     "output_type": "stream",
     "text": [
      "10\n",
      "20\n",
      "40\n",
      "30\n",
      "50\n"
     ]
    }
   ],
   "source": [
    "length = len(list)\n",
    "newRange = range(length)\n",
    "\n",
    "for item in newRange:\n",
    "    print(list[item])"
   ]
  },
  {
   "cell_type": "markdown",
   "id": "4f76eaed",
   "metadata": {},
   "source": [
    "## Using while loop"
   ]
  },
  {
   "cell_type": "code",
   "execution_count": 4,
   "id": "917f87d9",
   "metadata": {
    "collapsed": true
   },
   "outputs": [
    {
     "name": "stdout",
     "output_type": "stream",
     "text": [
      "10\n",
      "20\n",
      "40\n",
      "30\n",
      "50\n"
     ]
    }
   ],
   "source": [
    "i = 0\n",
    "while i < len(list):\n",
    "    print(list[i])\n",
    "    i+= 1"
   ]
  },
  {
   "cell_type": "markdown",
   "id": "bba177c9",
   "metadata": {},
   "source": [
    "## Using list comprehension"
   ]
  },
  {
   "cell_type": "code",
   "execution_count": 5,
   "id": "b375c3e4",
   "metadata": {
    "collapsed": true
   },
   "outputs": [
    {
     "name": "stdout",
     "output_type": "stream",
     "text": [
      "10\n",
      "20\n",
      "40\n",
      "30\n",
      "50\n"
     ]
    },
    {
     "data": {
      "text/plain": [
       "[None, None, None, None, None]"
      ]
     },
     "execution_count": 5,
     "metadata": {},
     "output_type": "execute_result"
    }
   ],
   "source": [
    "[print(item) for item in list]"
   ]
  },
  {
   "cell_type": "markdown",
   "id": "b9900315",
   "metadata": {},
   "source": [
    "# Dictionary"
   ]
  },
  {
   "cell_type": "code",
   "execution_count": 9,
   "id": "29fb2902",
   "metadata": {},
   "outputs": [],
   "source": [
    "newDict = {\n",
    "    'Shaukat' : 'Kulgam',\n",
    "    'Zaid' : 'Srinagar',\n",
    "    'Vejinder' : 'Pulwama'\n",
    "}"
   ]
  },
  {
   "cell_type": "markdown",
   "id": "04818d49",
   "metadata": {},
   "source": [
    "## Accessing keys using build.keys()"
   ]
  },
  {
   "cell_type": "code",
   "execution_count": 7,
   "id": "0f2b1ff6",
   "metadata": {
    "collapsed": true
   },
   "outputs": [
    {
     "name": "stdout",
     "output_type": "stream",
     "text": [
      "dict_keys(['Shaukat', 'Zaid', 'Vejinder'])\n"
     ]
    }
   ],
   "source": [
    "keys = newDict.keys()\n",
    "print(keys)"
   ]
  },
  {
   "cell_type": "markdown",
   "id": "f0c785ae",
   "metadata": {},
   "source": [
    "## Accessing keys without using keys()"
   ]
  },
  {
   "cell_type": "code",
   "execution_count": 10,
   "id": "af4717ed",
   "metadata": {
    "collapsed": true
   },
   "outputs": [
    {
     "name": "stdout",
     "output_type": "stream",
     "text": [
      "Shaukat\n",
      "Zaid\n",
      "Vejinder\n"
     ]
    }
   ],
   "source": [
    "for name in newDict:\n",
    "    print(name)"
   ]
  },
  {
   "cell_type": "markdown",
   "id": "dcf94f1c",
   "metadata": {},
   "source": [
    "## Iterate through all values using .values()"
   ]
  },
  {
   "cell_type": "code",
   "execution_count": 11,
   "id": "2ed1fdee",
   "metadata": {},
   "outputs": [
    {
     "name": "stdout",
     "output_type": "stream",
     "text": [
      "Kulgam\n",
      "Srinagar\n",
      "Pulwama\n"
     ]
    }
   ],
   "source": [
    "for state in newDict.values():\n",
    "    print(state)"
   ]
  },
  {
   "cell_type": "markdown",
   "id": "c53995d8",
   "metadata": {},
   "source": [
    "## Iterate through all key and value paris using items()"
   ]
  },
  {
   "cell_type": "code",
   "execution_count": 12,
   "id": "e7af7067",
   "metadata": {},
   "outputs": [
    {
     "name": "stdout",
     "output_type": "stream",
     "text": [
      "Shaukat  =  Kulgam\n",
      "Zaid  =  Srinagar\n",
      "Vejinder  =  Pulwama\n"
     ]
    }
   ],
   "source": [
    "for name,state in newDict.items():\n",
    "    print(name, \" = \", state)"
   ]
  },
  {
   "cell_type": "markdown",
   "id": "ff138595",
   "metadata": {},
   "source": [
    "## Accessing both keys and values without using items()"
   ]
  },
  {
   "cell_type": "code",
   "execution_count": 14,
   "id": "e0efa8af",
   "metadata": {},
   "outputs": [
    {
     "name": "stdout",
     "output_type": "stream",
     "text": [
      "Shaukat  =  Kulgam\n",
      "Zaid  =  Srinagar\n",
      "Vejinder  =  Pulwama\n"
     ]
    }
   ],
   "source": [
    "for name in newDict:\n",
    "    print(name, ' = ', newDict[name])"
   ]
  },
  {
   "cell_type": "markdown",
   "id": "80302606",
   "metadata": {},
   "source": [
    "## Print items in key-value in pair"
   ]
  },
  {
   "cell_type": "code",
   "execution_count": 15,
   "id": "2ddb50a8",
   "metadata": {},
   "outputs": [
    {
     "name": "stdout",
     "output_type": "stream",
     "text": [
      "dict_items([('Shaukat', 'Kulgam'), ('Zaid', 'Srinagar'), ('Vejinder', 'Pulwama')])\n"
     ]
    }
   ],
   "source": [
    "keys = newDict.items()\n",
    "print(keys)"
   ]
  }
 ],
 "metadata": {
  "kernelspec": {
   "display_name": "Python 3 (ipykernel)",
   "language": "python",
   "name": "python3"
  },
  "language_info": {
   "codemirror_mode": {
    "name": "ipython",
    "version": 3
   },
   "file_extension": ".py",
   "mimetype": "text/x-python",
   "name": "python",
   "nbconvert_exporter": "python",
   "pygments_lexer": "ipython3",
   "version": "3.9.12"
  }
 },
 "nbformat": 4,
 "nbformat_minor": 5
}
